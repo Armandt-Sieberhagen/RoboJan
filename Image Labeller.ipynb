{
 "cells": [
  {
   "cell_type": "markdown",
   "id": "c16139c6",
   "metadata": {},
   "source": [
    "Quick Image Labelling"
   ]
  },
  {
   "cell_type": "markdown",
   "id": "3602cca8",
   "metadata": {},
   "source": [
    "Install all of the needed modules"
   ]
  },
  {
   "cell_type": "code",
   "execution_count": 1,
   "id": "e70c034d",
   "metadata": {},
   "outputs": [
    {
     "name": "stdout",
     "output_type": "stream",
     "text": [
      "Requirement already satisfied: pyqt5 in c:\\users\\arman\\objectdetectiontest\\tfodcourse\\testo\\lib\\site-packages (5.15.7)\n",
      "Requirement already satisfied: lxml in c:\\users\\arman\\objectdetectiontest\\tfodcourse\\testo\\lib\\site-packages (4.9.1)\n",
      "Requirement already satisfied: PyQt5-sip<13,>=12.11 in c:\\users\\arman\\objectdetectiontest\\tfodcourse\\testo\\lib\\site-packages (from pyqt5) (12.11.0)\n",
      "Requirement already satisfied: PyQt5-Qt5>=5.15.0 in c:\\users\\arman\\objectdetectiontest\\tfodcourse\\testo\\lib\\site-packages (from pyqt5) (5.15.2)\n"
     ]
    }
   ],
   "source": [
    "import os\n",
    "!pip install --upgrade pyqt5 lxml\n",
    "Labelingpath = os.path.join('Tensorflow', 'Labeling')"
   ]
  },
  {
   "cell_type": "markdown",
   "id": "bbca2942",
   "metadata": {},
   "source": [
    "Clone the github repo and make the files to there if it has not yet been made"
   ]
  },
  {
   "cell_type": "code",
   "execution_count": 2,
   "id": "560b944c",
   "metadata": {},
   "outputs": [],
   "source": [
    "if not os.path.exists(Labelingpath):\n",
    "    !mkdir {Labelingpath}\n",
    "    !git clone https://github.com/tzutalin/labelImg {Labelingpath}\n",
    "        \n",
    "if os.name == 'posix':\n",
    "    !cd {Labelingpath} && !make qt5py3\n",
    "if os.name =='nt':\n",
    "    !cd {Labelingpath} && pyrcc5 -o libs/resources.py resources.qrc"
   ]
  },
  {
   "cell_type": "code",
   "execution_count": null,
   "id": "39e41ed1",
   "metadata": {},
   "outputs": [],
   "source": []
  },
  {
   "cell_type": "markdown",
   "id": "795c2d80",
   "metadata": {},
   "source": [
    "Start the application"
   ]
  },
  {
   "cell_type": "code",
   "execution_count": 3,
   "id": "8a1a28c7",
   "metadata": {},
   "outputs": [
    {
     "name": "stdout",
     "output_type": "stream",
     "text": [
      "Cancel creation.\n",
      "Image:C:\\Users\\arman\\Downloads\\cheese\\cheddar-cheese-wedge.webp -> Annotation:C:/Users/arman/Downloads/cheese\\cheddar-cheese-wedge.xml\n",
      "Image:C:\\Users\\arman\\Downloads\\cheese\\healthiest-cheese-1296x728-swiss.jpg -> Annotation:C:/Users/arman/Downloads/cheese\\healthiest-cheese-1296x728-swiss.xml\n",
      "Image:C:\\Users\\arman\\Downloads\\cheese\\index.jpg -> Annotation:C:/Users/arman/Downloads/cheese\\index.xml\n"
     ]
    }
   ],
   "source": [
    "!cd {Labelingpath} && python labelImg.py"
   ]
  },
  {
   "cell_type": "code",
   "execution_count": null,
   "id": "b20a5587",
   "metadata": {},
   "outputs": [],
   "source": []
  }
 ],
 "metadata": {
  "kernelspec": {
   "display_name": "testo",
   "language": "python",
   "name": "testo"
  },
  "language_info": {
   "codemirror_mode": {
    "name": "ipython",
    "version": 3
   },
   "file_extension": ".py",
   "mimetype": "text/x-python",
   "name": "python",
   "nbconvert_exporter": "python",
   "pygments_lexer": "ipython3",
   "version": "3.9.7"
  }
 },
 "nbformat": 4,
 "nbformat_minor": 5
}
